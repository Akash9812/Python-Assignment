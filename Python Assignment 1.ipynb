{
 "cells": [
  {
   "cell_type": "code",
   "execution_count": 1,
   "metadata": {},
   "outputs": [],
   "source": [
    "#Calculator\n",
    "#addition\n",
    "def add(x , y):\n",
    "    return(x + y)\n",
    "#Subtraction\n",
    "def subtract(x ,y):\n",
    "    return(x - y)\n",
    "#multiplication\n",
    "def multiply(x , y):\n",
    "    return(x*y)\n",
    "#Division\n",
    "def Division(x , y):\n",
    "    return(x/y)"
   ]
  },
  {
   "cell_type": "code",
   "execution_count": null,
   "metadata": {},
   "outputs": [
    {
     "name": "stdout",
     "output_type": "stream",
     "text": [
      "selecting oparetor\n",
      "1.Add\n",
      "2.Substraction\n",
      "3.multiplication\n",
      "4.Division\n",
      "Enter A(1/2/3/4): 1\n",
      "Enter first num: 25\n",
      "Enter second num: 25\n",
      "25.0 + 25.0 = 50.0\n",
      "Enter A(1/2/3/4): 2\n",
      "Enter first num: 5000\n",
      "Enter second num: 12\n",
      "5000.0 - 12.0 = 4988.0\n",
      "Enter A(1/2/3/4): 3\n",
      "Enter first num: 45\n",
      "Enter second num: 12\n",
      "45.0 * 12.0 = 540.0\n",
      "Enter A(1/2/3/4): 4\n",
      "Enter first num: 6665\n",
      "Enter second num: 12\n",
      "6665.0 / 12.0 = 555.4166666666666\n"
     ]
    }
   ],
   "source": [
    "print('selecting oparetor')\n",
    "print('1.Add')\n",
    "print('2.Substraction')\n",
    "print('3.multiplication')\n",
    "print('4.Division')\n",
    "while True:\n",
    "    #take numberes from user \n",
    "    A=input('Enter A(1/2/3/4): ')\n",
    "    \n",
    "    if A in ('1', '2','3','4'):\n",
    "        num1 =float(input('Enter first num: ' ))\n",
    "        num2 =float(input('Enter second num: '))\n",
    "    if A == '1':\n",
    "        print(num1, '+', num2, '=', add(num1,num2))\n",
    "    elif A == '2':\n",
    "        print(num1, '-', num2, '=', subtract(num1,num2))\n",
    "    elif A == '3':\n",
    "        print(num1, '*', num2, '=', multiply(num1,num2))\n",
    "    elif A == '4':\n",
    "        print(num1, '/', num2, '=', Division(num1,num2))\n",
    "add()"
   ]
  },
  {
   "cell_type": "markdown",
   "metadata": {},
   "source": [
    "### Addtional Easy way"
   ]
  },
  {
   "cell_type": "code",
   "execution_count": 1,
   "metadata": {},
   "outputs": [
    {
     "name": "stdout",
     "output_type": "stream",
     "text": [
      "your choice: 1.Add,2.Subtraction,3.multiplication,4.division\n",
      "1\n",
      "your select 1\n",
      "4545\n",
      "2212\n",
      "6757\n"
     ]
    }
   ],
   "source": [
    "def Cal():\n",
    "    print('your choice: 1.Add,2.Subtraction,3.multiplication,4.division')\n",
    "    choice=int(input())\n",
    "    print('your select',choice)\n",
    "    if choice == 1:\n",
    "        n1=int(input())\n",
    "        n2=int(input())\n",
    "        r=n1+n2\n",
    "        print(r)\n",
    "    if choice == 2:\n",
    "        n1=int(input())\n",
    "        n2=int(input())\n",
    "        r=n1-n2\n",
    "        print(r)\n",
    "    if choice == 3:\n",
    "        n1=int(input())\n",
    "        n2=int(input())\n",
    "        r= n1*n2\n",
    "        print(r)\n",
    "    if choice == 4:\n",
    "        n1=int(input())\n",
    "        n2=int(input())\n",
    "        r= n1/n2\n",
    "        print(r)\n",
    "    #else:\n",
    "        #print('Invalid  function')\n",
    "        \n",
    "        \n",
    "Cal()"
   ]
  },
  {
   "cell_type": "code",
   "execution_count": 2,
   "metadata": {},
   "outputs": [
    {
     "name": "stdout",
     "output_type": "stream",
     "text": [
      "Enter Pressure: 50\n",
      "Enter Force: ?\n",
      "Enter Area 10\n",
      "Force is  500.0\n"
     ]
    }
   ],
   "source": [
    "#pressure Calculate\n",
    "def PRS():\n",
    "    P = input('Enter Pressure: ')\n",
    "    F = input('Enter Force: ')\n",
    "    A = input('Enter Area ')\n",
    "    \n",
    "    if P is '?':\n",
    "        print('Pressure is ', float(F)/float(A))\n",
    "    if F is '?':\n",
    "        print('Force is ',float(P)*float(A))\n",
    "    if A is '?':\n",
    "        print('Area is ',float(F)/float(P))\n",
    "        \n",
    "PRS()"
   ]
  },
  {
   "cell_type": "code",
   "execution_count": 7,
   "metadata": {},
   "outputs": [
    {
     "name": "stdout",
     "output_type": "stream",
     "text": [
      "Distance is: 264\n",
      "Speed is: ?\n",
      "Time is 3\n",
      "Speed is  88.0\n"
     ]
    }
   ],
   "source": [
    "# Distance measure\n",
    "\n",
    "def DST():\n",
    "    D = input('Distance is: ')\n",
    "    S = input('Speed is: ')\n",
    "    T = input('Time is ')\n",
    "    \n",
    "    if D is '?':\n",
    "        print('Distance is ',float(S)/float(T))\n",
    "    if S is '?':\n",
    "        print('Speed is ', float(D)/float(T))\n",
    "    if T is '?':\n",
    "        print('Time is ',float(D)/float(S))\n",
    "        \n",
    "DST()\n"
   ]
  },
  {
   "cell_type": "code",
   "execution_count": null,
   "metadata": {},
   "outputs": [],
   "source": [
    "        "
   ]
  },
  {
   "cell_type": "code",
   "execution_count": null,
   "metadata": {},
   "outputs": [],
   "source": []
  },
  {
   "cell_type": "code",
   "execution_count": null,
   "metadata": {},
   "outputs": [],
   "source": []
  }
 ],
 "metadata": {
  "kernelspec": {
   "display_name": "Python 3",
   "language": "python",
   "name": "python3"
  },
  "language_info": {
   "codemirror_mode": {
    "name": "ipython",
    "version": 3
   },
   "file_extension": ".py",
   "mimetype": "text/x-python",
   "name": "python",
   "nbconvert_exporter": "python",
   "pygments_lexer": "ipython3",
   "version": "3.7.4"
  }
 },
 "nbformat": 4,
 "nbformat_minor": 2
}
