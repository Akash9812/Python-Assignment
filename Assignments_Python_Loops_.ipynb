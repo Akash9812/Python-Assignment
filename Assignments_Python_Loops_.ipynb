{
 "cells": [
  {
   "cell_type": "markdown",
   "metadata": {
    "id": "2MzEIlk_RNbf"
   },
   "source": [
    "# Question 1 \n",
    "Write a program which will find all such numbers which are divisible by 7   but are not a multiple of 5, between 2000 and 3200 (both included).The numbers obtained should be printed in a comma-separated sequence on a single line.\n",
    "## Hints : \n",
    "### Consider use range(#begin,#end)method.\n",
    "\n",
    "### Using for Loops"
   ]
  },
  {
   "cell_type": "code",
   "execution_count": 14,
   "metadata": {},
   "outputs": [
    {
     "name": "stdout",
     "output_type": "stream",
     "text": [
      "2002,2009,2016,2023,2030,2037,2044,2051,2058,2065,2072,2079,2086,2093,2100,2107,2114,2121,2128,2135,2142,2149,2156,2163,2170,2177,2184,2191,2198,2205,2212,2219,2226,2233,2240,2247,2254,2261,2268,2275,2282,2289,2296,2303,2310,2317,2324,2331,2338,2345,2352,2359,2366,2373,2380,2387,2394,2401,2408,2415,2422,2429,2436,2443,2450,2457,2464,2471,2478,2485,2492,2499,2506,2513,2520,2527,2534,2541,2548,2555,2562,2569,2576,2583,2590,2597,2604,2611,2618,2625,2632,2639,2646,2653,2660,2667,2674,2681,2688,2695,2702,2709,2716,2723,2730,2737,2744,2751,2758,2765,2772,2779,2786,2793,2800,2807,2814,2821,2828,2835,2842,2849,2856,2863,2870,2877,2884,2891,2898,2905,2912,2919,2926,2933,2940,2947,2954,2961,2968,2975,2982,2989,2996,3003,3010,3017,3024,3031,3038,3045,3052,3059,3066,3073,3080,3087,3094,3101,3108,3115,3122,3129,3136,3143,3150,3157,3164,3171,3178,3185,3192,3199\n"
     ]
    }
   ],
   "source": [
    "A=[]\n",
    "for i in range(2000,3200):\n",
    "    if i%7 == 0 and i*5 != 0:\n",
    "        A.append(str(i))\n",
    "print(','.join(A))"
   ]
  },
  {
   "cell_type": "markdown",
   "metadata": {
    "id": "PZt8JWjZRNbu"
   },
   "source": [
    "### Using generator and list comprehension."
   ]
  },
  {
   "cell_type": "code",
   "execution_count": 15,
   "metadata": {},
   "outputs": [
    {
     "name": "stdout",
     "output_type": "stream",
     "text": [
      "2007,2014,2021,2028,2042,2049,2056,2063,2077,2084,2091,2098,2112,2119,2126,2133,2147,2154,2161,2168,2182,2189,2196,2203,2217,2224,2231,2238,2252,2259,2266,2273,2287,2294,2301,2308,2322,2329,2336,2343,2357,2364,2371,2378,2392,2399,2406,2413,2427,2434,2441,2448,2462,2469,2476,2483,2497,2504,2511,2518,2532,2539,2546,2553,2567,2574,2581,2588,2602,2609,2616,2623,2637,2644,2651,2658,2672,2679,2686,2693,2707,2714,2721,2728,2742,2749,2756,2763,2777,2784,2791,2798,2812,2819,2826,2833,2847,2854,2861,2868,2882,2889,2896,2903,2917,2924,2931,2938,2952,2959,2966,2973,2987,2994,3001,3008,3022,3029,3036,3043,3057,3064,3071,3078,3092,3099,3106,3113,3127,3134,3141,3148,3162,3169,3176,3183,3197\n"
     ]
    }
   ],
   "source": [
    "A=list(range(2000,3200,7))\n",
    "A2 = [str(o) for o in A if o%5 != 0]\n",
    "print(','.join(A2))\n"
   ]
  },
  {
   "cell_type": "markdown",
   "metadata": {
    "id": "IzOH_lKLRNbw"
   },
   "source": [
    "# Question 2\n",
    "Write a program which can compute the factorial of a given numbers.The results should be printed in a comma-separated sequence on a single line.Suppose the following input is supplied to the program: 8 Then, the output should be:40320\n",
    "    \n",
    "### HInts : In case of input data being supplied to the question, it should be assumed to be a console input.\n",
    "\n",
    "### Using While Loop."
   ]
  },
  {
   "cell_type": "code",
   "execution_count": 37,
   "metadata": {
    "id": "j-aqr7j_RNbw",
    "outputId": "fada75a0-5664-4e45-c3f9-4f961880b7f3"
   },
   "outputs": [
    {
     "name": "stdout",
     "output_type": "stream",
     "text": [
      "8\n",
      "8 , 40320\n"
     ]
    }
   ],
   "source": [
    "A = int(input())\n",
    "f=i=1\n",
    "while i<=A:\n",
    "    f=i*f\n",
    "    i=i+1\n",
    "print(A,',',f)"
   ]
  },
  {
   "cell_type": "markdown",
   "metadata": {
    "id": "pFfJBsyGRNbx"
   },
   "source": [
    "### Using For Loop."
   ]
  },
  {
   "cell_type": "code",
   "execution_count": 17,
   "metadata": {
    "id": "2PgjqDDDRNbx",
    "outputId": "86aa6e7c-9df5-4883-b6b1-b6a97736e010"
   },
   "outputs": [
    {
     "name": "stdout",
     "output_type": "stream",
     "text": [
      "8\n",
      "8 \n",
      " 40320\n"
     ]
    }
   ],
   "source": [
    "n = int(input())\n",
    "f=1\n",
    "for i in range(1,n+1):\n",
    "    if i<=n:\n",
    "        f=i*f\n",
    "print(n,'\\n',f)"
   ]
  },
  {
   "cell_type": "markdown",
   "metadata": {
    "id": "pVH0IIw0RNbz"
   },
   "source": [
    "# Question 3 \n",
    "With a given integral number n, write a program to generate a dictionary that contains (i, i x i) such that is an integral number between 1 and n (both included). and then the program should print the dictionary.Suppose the following input is supplied to the program: 8\n",
    "\n",
    "Then, the output should be \n",
    "{1: 1, 2: 4, 3: 9, 4: 16, 5: 25, 6: 36, 7: 49, 8: 64}\n",
    "\n",
    "### Hints: In case of input data being supplied to the question, it should be assumed to be a console input.Consider use dict()\n",
    "\n",
    "#### Using For Loop\n"
   ]
  },
  {
   "cell_type": "code",
   "execution_count": 45,
   "metadata": {
    "id": "OpjMp1R1RNbz",
    "outputId": "f335b7cb-09e4-49a3-cafb-0ab9e27f096b"
   },
   "outputs": [
    {
     "name": "stdout",
     "output_type": "stream",
     "text": [
      "8\n",
      "{1: 1, 2: 4, 3: 9, 4: 16, 5: 25, 6: 36, 7: 49, 8: 64}\n"
     ]
    }
   ],
   "source": [
    "A = {}\n",
    "b = int(input())\n",
    "for i in range(1,b+1):\n",
    "     A[i] = i**2\n",
    "print(A)"
   ]
  },
  {
   "cell_type": "markdown",
   "metadata": {
    "id": "YM5tS8G-RNb0"
   },
   "source": [
    "### Using dictionary comprehension"
   ]
  },
  {
   "cell_type": "code",
   "execution_count": 48,
   "metadata": {
    "id": "1whOwDdTRNb0",
    "outputId": "779cb9da-88b2-46ab-8291-56dd06849a8b"
   },
   "outputs": [
    {
     "name": "stdout",
     "output_type": "stream",
     "text": [
      "{1: 1, 2: 4, 3: 9, 4: 16, 5: 25, 6: 36, 7: 49, 8: 64}\n"
     ]
    }
   ],
   "source": [
    "A={}\n",
    "b = {i:i**2 for i in range(1,b+1)}\n",
    "print(b)"
   ]
  },
  {
   "cell_type": "markdown",
   "metadata": {
    "id": "5_uyfPbiRNb1"
   },
   "source": [
    "# Question 4\n",
    "Write a program which accepts a sequence of comma-separated numbers from console and generate a list and a tuple which contains every number.Suppose the following input is supplied to the program: 34,67,55,33,12,98\n",
    "\n",
    "Then, the output should be:\n",
    "\n",
    "['34', '67', '55', '33', '12', '98']\n",
    "\n",
    "('34', '67', '55', '33', '12', '98')\n",
    "\n",
    "### Hints: In case of input data being supplied to the question, it should be assumed to be a console input.tuple() method can convert list to tuple"
   ]
  },
  {
   "cell_type": "code",
   "execution_count": 11,
   "metadata": {
    "id": "3YjHJPkURNb1",
    "outputId": "84e7bbf3-af6f-4107-ce33-f824cbd2e657"
   },
   "outputs": [
    {
     "name": "stdout",
     "output_type": "stream",
     "text": [
      "45,12,54\n",
      "['45', '12', '54']\n",
      "('45', '12', '54')\n"
     ]
    }
   ],
   "source": [
    "values = input()\n",
    "list1 = values.split(',')\n",
    "tuple1 = tuple(list1)\n",
    "print(list1)\n",
    "print(tuple1)"
   ]
  },
  {
   "cell_type": "markdown",
   "metadata": {
    "id": "A5yReurTRNb2"
   },
   "source": [
    "# Question 5\n",
    "#### Define a class which has at least two methods:\n",
    "1. getString: to get a string from console input.\n",
    "2. printString: to print the string in upper case.\n",
    "\n",
    "Also please include simple test function to test the class methods.\n",
    "\n",
    "#### Hints: Use init method to construct some parameters"
   ]
  },
  {
   "cell_type": "code",
   "execution_count": null,
   "metadata": {
    "id": "TCCb1IUVRNb3",
    "outputId": "c7ea33b1-84f2-4977-962f-c96f9af978ed"
   },
   "outputs": [
    {
     "name": "stdout",
     "output_type": "stream",
     "text": [
      "abcdef\n",
      "ABCDEF\n"
     ]
    }
   ],
   "source": []
  },
  {
   "cell_type": "markdown",
   "metadata": {
    "id": "QSOpgOW1RNb4"
   },
   "source": [
    "# Question:\n",
    "Write a program that calculates and prints the value according to the given formula:\n",
    "\n",
    "Q = Square root of [(2 _ C _ D)/H]\n",
    "\n",
    "Following are the fixed values of C and H: C is 50. H is 30.\n",
    "\n",
    "D is the variable whose values should be input to your program in a comma-separated sequence.For example Let us assume the following comma separated input sequence is given to the program: 100,150,180\n",
    "\n",
    "The output of the program should be: 18,22,24\n",
    "    \n",
    "#### Hints: If the output received is in decimal form, it should be rounded off to its nearest value (for example, if the output received is 26.0, it should be printed as 26).In case of input data being supplied to the question, it should be assumed to be a console input."
   ]
  },
  {
   "cell_type": "code",
   "execution_count": 26,
   "metadata": {
    "id": "EdTLkKqyRNb4",
    "outputId": "451c6a35-a512-4a7e-a673-2b4cdddb7f1e"
   },
   "outputs": [
    {
     "name": "stdout",
     "output_type": "stream",
     "text": [
      "100,150,180\n",
      "18,22,24\n"
     ]
    }
   ],
   "source": [
    "import math\n",
    "C = 50\n",
    "H = 30\n",
    "n = input()\n",
    "D = n.split(',')\n",
    "f = []\n",
    "for i in D:\n",
    "    f.append(str(round(math.sqrt(2*C*int(i)/H))))\n",
    "print(','.join(f))"
   ]
  },
  {
   "cell_type": "markdown",
   "metadata": {
    "id": "NJFrmzNWRNb5"
   },
   "source": [
    "# Question:\n",
    "Write a program which takes 2 digits, X,Y as input and generates a 2-dimensional array. The element value in the i-th row and j-th column of the array should be i _ j.*\n",
    "\n",
    "Note: i=0,1.., X-1; j=0,1,¡­Y-1. Suppose the following inputs are given to the program: 3,5\n",
    "\n",
    "Then, the output of the program should be: [[0, 0, 0, 0, 0], [0, 1, 2, 3, 4], [0, 2, 4, 6, 8]]\n",
    "    \n",
    "#### Hints: In case of input data being supplied to the question, it should be assumed to be a console input in a comma-separated form."
   ]
  },
  {
   "cell_type": "code",
   "execution_count": 29,
   "metadata": {
    "id": "4_K3wYL8RNb5",
    "outputId": "a7c72b3d-b24b-43fc-a3fc-ca88341ef618"
   },
   "outputs": [
    {
     "name": "stdout",
     "output_type": "stream",
     "text": [
      "input number of rows: 3\n",
      "input number of columns: 5\n",
      "[[0, 0, 0, 0, 0], [0, 1, 2, 3, 4], [0, 2, 4, 6, 8]]\n"
     ]
    }
   ],
   "source": [
    "rows = int(input('input number of rows: '))\n",
    "cols = int(input('input number of columns: '))\n",
    "l = [[0 for j in range(cols)] for i in range(rows)]\n",
    "for i in range(rows):\n",
    "    for j in range(cols):\n",
    "        l[i][j] = i*j\n",
    "print(l)"
   ]
  },
  {
   "cell_type": "markdown",
   "metadata": {
    "id": "BVL6bJhTRNb6"
   },
   "source": [
    "# Question:\n",
    "Write a program that accepts sequence of lines as input and prints the lines after making all characters in the sentence capitalized.\n",
    "\n",
    "Suppose the following input is supplied to the program: \n",
    "   [ Hello world Practice makes perfect]\n",
    "    \n",
    "Then, the output should be:  [ HELLO WORLD PRACTICE MAKES PERFECT ] \n",
    "\n",
    "#### Hints: In case of input data being supplied to the question, it should be assumed to be a console input."
   ]
  },
  {
   "cell_type": "code",
   "execution_count": 42,
   "metadata": {
    "id": "q9xogtuJRNb7",
    "outputId": "36918d8f-1a01-4e2c-ce9d-6019f82b5991"
   },
   "outputs": [
    {
     "name": "stdout",
     "output_type": "stream",
     "text": [
      "Hello world Practice makes perfect\n",
      "HELLO WORLD PRACTICE MAKES PERFECT\n"
     ]
    }
   ],
   "source": [
    "A = str(input())\n",
    "a = []\n",
    "for j in A:\n",
    "    a.append(j.upper())\n",
    "print(''.join(a))"
   ]
  },
  {
   "cell_type": "code",
   "execution_count": 30,
   "metadata": {
    "id": "t51LEcw-RNb8"
   },
   "outputs": [
    {
     "name": "stdout",
     "output_type": "stream",
     "text": [
      "Hello world Practice makes perfect\n"
     ]
    },
    {
     "data": {
      "text/plain": [
       "'HELLO WORLD PRACTICE MAKES PERFECT'"
      ]
     },
     "execution_count": 30,
     "metadata": {},
     "output_type": "execute_result"
    }
   ],
   "source": [
    "A = input()\n",
    "str(A.upper())"
   ]
  },
  {
   "cell_type": "markdown",
   "metadata": {
    "id": "DtYGa01QSurV"
   },
   "source": [
    "# Question:\n",
    "Write a program that accepts a sentence and calculate the number of letters and digits.\n",
    "\n",
    "Suppose the following input is supplied to the program :- hello world! 123 \n",
    "\n",
    "Then, the output should be:\n",
    "\n",
    "Letters 10\n",
    "\n",
    "Digits 3\n",
    "\n",
    "### Hints : In case of input data being supplied to the question, it should be assumed to be a console input.\n",
    "\n"
   ]
  },
  {
   "cell_type": "code",
   "execution_count": 45,
   "metadata": {
    "colab": {
     "base_uri": "https://localhost:8080/"
    },
    "id": "rmqxEJ_CRNb8",
    "outputId": "7c987a28-df2b-4bf0-f255-bd8e097860ad"
   },
   "outputs": [
    {
     "name": "stdout",
     "output_type": "stream",
     "text": [
      "hello world! 123\n",
      "letter 3\n",
      "digit 10\n"
     ]
    }
   ],
   "source": [
    "A = input('')\n",
    "s=d=0\n",
    "for i in A:\n",
    "    if i.isdigit():\n",
    "        s=s+1\n",
    "    elif i.isalpha():\n",
    "        d=d+1\n",
    "    else:\n",
    "        pass\n",
    "print('letter',s)\n",
    "print('digit',d)"
   ]
  },
  {
   "cell_type": "markdown",
   "metadata": {
    "id": "qXmXy-Oab22x"
   },
   "source": [
    "# Question:\n",
    "Write a program that computes the value of a+aa+aaa+aaaa with a given digit as the value of a.\n",
    "\n",
    "Suppose the following input is supplied to the program : - 9\n",
    "\n",
    "Then, the output should be:- 11106\n",
    "\n",
    "### Hints: In case of input data being supplied to the question, it should be assumed to be a console input."
   ]
  },
  {
   "cell_type": "code",
   "execution_count": 6,
   "metadata": {},
   "outputs": [
    {
     "name": "stdout",
     "output_type": "stream",
     "text": [
      "9\n",
      "11106\n"
     ]
    }
   ],
   "source": [
    "A = input()\n",
    "a1 = A*1\n",
    "a2 = A*2\n",
    "a3 = A*3\n",
    "a4 = A*4\n",
    "\n",
    "total = int(a1)+int(a2)+int(a3)+int(a4)\n",
    "print(total)"
   ]
  },
  {
   "cell_type": "markdown",
   "metadata": {
    "id": "YsqUyLm-ctY2"
   },
   "source": [
    "# Question:\n",
    "Write a program that computes the net amount of a bank account based a transaction log from console input. The transaction log format is shown as following: \n",
    "\n",
    "D 100\n",
    "\n",
    "W 200\n",
    "\n",
    "D means deposit while W means withdrawal.\n",
    "\n",
    "Suppose the following input is supplied to the program: \n",
    "\n",
    "D 300\n",
    "\n",
    "D 300\n",
    "\n",
    "W 200\n",
    "\n",
    "D 100\n",
    "\n",
    "Output should be :-  500\n",
    "\n",
    "### Hints: In case of input data being supplied to the question, it should be assumed to be a console input."
   ]
  },
  {
   "cell_type": "code",
   "execution_count": 24,
   "metadata": {},
   "outputs": [
    {
     "name": "stdout",
     "output_type": "stream",
     "text": [
      "D 300\n",
      "D 300\n",
      "W 200\n",
      "D 100\n",
      "\n",
      "500\n"
     ]
    }
   ],
   "source": [
    "total = 0\n",
    "while True:\n",
    "    d_w_trans = input()\n",
    "    if d_w_trans == \"\":\n",
    "        break\n",
    "    else:\n",
    "        d_w_trans = d_w_trans.split(\" \")\n",
    "        if d_w_trans[0] == \"D\":\n",
    "            total = total + int(d_w_trans[1])\n",
    "        elif d_w_trans[0] == \"W\":\n",
    "            total = total - int(d_w_trans[1])\n",
    "\n",
    "print(total)"
   ]
  },
  {
   "cell_type": "markdown",
   "metadata": {
    "id": "Y8rnoacVginm"
   },
   "source": [
    "# Question:\n",
    "A website requires the users to input username and password to register. Write a program to check the validity of password input by users.\n",
    "\n",
    "Following are the criteria for checking the password:\n",
    "\n",
    "* At least 1 letter between [a-z]\n",
    "* At least 1 number between [0-9]\n",
    "* At least 1 letter between [A-Z]\n",
    "* At least 1 character from [$#@]\n",
    "* Minimum length of transaction password: 6\n",
    "* Maximum length of transaction password: 12\n",
    "\n",
    "Your program should accept a sequence of comma separated passwords and will check them according to the above criteria. Passwords that match the criteria are to be printed, each separated by a comma.\n",
    "\n",
    "#### Example\n",
    "\n",
    "If the following passwords are given as input to the program:  [ ABd1234@1,  aF1#,2w3E*,  2We3345 ]\n",
    "\n",
    "Then, the output of the program should be:   [ABd1234@1]\n",
    "\n",
    "### Hints: In case of input data being supplied to the question, it should be assumed to be a console input.\n",
    "\n"
   ]
  },
  {
   "cell_type": "code",
   "execution_count": 1,
   "metadata": {
    "id": "z9a-Vf3agueS"
   },
   "outputs": [],
   "source": [
    "import re"
   ]
  },
  {
   "cell_type": "code",
   "execution_count": 8,
   "metadata": {
    "id": "5IJDTDPthLRX"
   },
   "outputs": [
    {
     "name": "stdout",
     "output_type": "stream",
     "text": [
      "input your password: sas\n",
      "Not valid password\n"
     ]
    }
   ],
   "source": [
    "p = input('input your password: ')\n",
    "x = True\n",
    "while x:\n",
    "    if (len(p)<6 or len(p)>12):\n",
    "        break\n",
    "    elif not re.search(['0-9'],p):\n",
    "        break\n",
    "    elif not re.search(['A-Z']):\n",
    "        break\n",
    "    elif not re.search(['$#@'],p):\n",
    "        break\n",
    "    else:\n",
    "        print('valid Password')\n",
    "        x=False\n",
    "        break\n",
    "if x:\n",
    "    print('Not valid password')"
   ]
  }
 ],
 "metadata": {
  "accelerator": "GPU",
  "colab": {
   "name": "Assignments Python Loops .ipynb",
   "provenance": []
  },
  "kernelspec": {
   "display_name": "Python 3",
   "language": "python",
   "name": "python3"
  },
  "language_info": {
   "codemirror_mode": {
    "name": "ipython",
    "version": 3
   },
   "file_extension": ".py",
   "mimetype": "text/x-python",
   "name": "python",
   "nbconvert_exporter": "python",
   "pygments_lexer": "ipython3",
   "version": "3.7.4"
  }
 },
 "nbformat": 4,
 "nbformat_minor": 1
}
