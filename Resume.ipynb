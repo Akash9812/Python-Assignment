{
 "cells": [
  {
   "cell_type": "code",
   "execution_count": 1,
   "metadata": {},
   "outputs": [
    {
     "name": "stdout",
     "output_type": "stream",
     "text": [
      "Name: gdrg\n",
      "Your name(M/F): M\n",
      "insert your summary: jb\n",
      "\n",
      " Mr gdrg\n",
      "\n",
      " Your_edu_level: 1.Masters,2.Bachalors,3.HSC,4.SSC1\n",
      "95\n",
      "\n",
      " Masters Marks:  ['9', '5'] %\n",
      "\n",
      " project_title: gv\n",
      "\n",
      " brif your project: jb\n",
      "\n",
      " achivements: h\n",
      "\n",
      " Hobbies: huh\n"
     ]
    }
   ],
   "source": [
    "def resume():\n",
    "        '''To Create resume'''  \n",
    "        Name = input('Name: ') # Full name\n",
    "        Gender = input('Your name(M/F): ')\n",
    "        Profile_summary = input('insert your summary: ')\n",
    "        if Gender is 'M':\n",
    "            print('\\n Mr', Name)\n",
    "        elif Gender is 'F':\n",
    "            print('\\n Miss/mrs', Name)\n",
    "        Education = input('\\n Your_edu_level: 1.Masters,2.Bachalors,3.HSC,4.SSC')\n",
    "        Your_edu_level = int(input())\n",
    "        \n",
    "       # print(Your_edu_level)\n",
    "        if Education == '1':\n",
    "                    print('\\n Masters Marks: ',Your_edu_level,'%')\n",
    "        if Education == '2':\n",
    "                    print('\\n Bachalors Marks: ',Your_edu_level,'%')\n",
    "        if Education == '3':\n",
    "                    print('\\n HSC Marks: ',Your_edu_level,'%')\n",
    "        if Education == '4':\n",
    "                    print('\\n SSC Marks: ',Your_edu_level,'%')\n",
    "        project_title = input('\\n project_title: ')\n",
    "        project = input('\\n brif your project: ')\n",
    "        Achivements = input('\\n achivements: ')\n",
    "      # publications = input('\\n publication: ')\n",
    "        Hobbies = input('\\n Hobbies: ')\n",
    "resume()"
   ]
  },
  {
   "cell_type": "raw",
   "metadata": {},
   "source": []
  },
  {
   "cell_type": "code",
   "execution_count": null,
   "metadata": {},
   "outputs": [],
   "source": []
  },
  {
   "cell_type": "code",
   "execution_count": null,
   "metadata": {},
   "outputs": [],
   "source": []
  }
 ],
 "metadata": {
  "kernelspec": {
   "display_name": "Python 3",
   "language": "python",
   "name": "python3"
  },
  "language_info": {
   "codemirror_mode": {
    "name": "ipython",
    "version": 3
   },
   "file_extension": ".py",
   "mimetype": "text/x-python",
   "name": "python",
   "nbconvert_exporter": "python",
   "pygments_lexer": "ipython3",
   "version": "3.7.4"
  }
 },
 "nbformat": 4,
 "nbformat_minor": 2
}
